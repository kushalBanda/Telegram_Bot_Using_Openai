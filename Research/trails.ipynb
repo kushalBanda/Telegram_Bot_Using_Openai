{
 "cells": [
  {
   "cell_type": "code",
   "execution_count": 16,
   "metadata": {},
   "outputs": [
    {
     "name": "stdout",
     "output_type": "stream",
     "text": [
      "Ok\n"
     ]
    }
   ],
   "source": [
    "from aiogram import Bot, Dispatcher, executor, types\n",
    "from dotenv import load_dotenv\n",
    "import os\n",
    "import logging\n",
    "import openai\n",
    "\n",
    "load_dotenv()\n",
    "API_TOKEN = os.getenv(\"TOKEN\")\n",
    "OPENAI_API_KEY = os.getenv(\"OPENAI_API_KEY\")\n",
    "\n",
    "# Connect with OpenAI\n",
    "openai.api_key = OPENAI_API_KEY \n",
    "\n",
    "print('Ok')\n",
    "\n",
    "MODEL_NAME = \"gpt-3.5-turbo\"\n",
    "\n",
    "# Initialize bot\n",
    "bot = Bot(token = API_TOKEN)\n",
    "dispatcher = Dispatcher(bot)\n",
    "\n",
    "class Reference:\n",
    "    def __init__(self) -> None:\n",
    "        self.response = \"\"\n",
    "\n",
    "\n",
    "\n",
    "reference = Reference()\n",
    "\n",
    "def clear_past():\n",
    "    reference.response = \"\"\n",
    "\n",
    "@dispatcher.message_handler(commands = ['start'])\n",
    "async def welcome(message: types.Message):\n",
    "    \"\"\"This handler receives messages with '/start' or '/help' command\n",
    "    \n",
    "    Args:\n",
    "        message (types.Message): _description_\n",
    "    \"\"\"\n",
    "    await message.reply('Hi\\n I am Echo Bot created Kushal Banda.\\n Powered by Aiogram.\\n How can I assist you?')\n",
    "\n",
    "@dispatcher.message_handler(commands = ['help'])\n",
    "async def welcome(message: types.Message):\n",
    "    \"\"\"\n",
    "    A handler to display the help menu. This handler receives messages with '/start' or '/help' command\n",
    "    \"\"\"\n",
    "    help_command = \"\"\"\n",
    "    Hi there, I'm a bot created by Kushal Banda! Please follow these commands - \n",
    "    /start - to start the conversation\n",
    "    /clear - to clear the past conversation and context.\n",
    "    /help - to get this help menu.\n",
    "    I hope this helps. :)\n",
    "    \"\"\"\n",
    "    await message.reply('Hi\\n I am Chat Bot! Created by Kushal Banda. How can I assist you?')\n",
    "\n",
    "@dispatcher.message_handler()\n",
    "async def welcome(message: types.Message):\n",
    "    \"\"\"\n",
    "    A handler to process the user's input and generate a response using the OpenAPI.\n",
    "    \"\"\"\n",
    "\n",
    "    print(f\">>> USER: \\n\\t{message.text}\")\n",
    "    response = openai.ChatCompletion.create(\n",
    "        model = MODEL_NAME,\n",
    "        messages = [\n",
    "            {'role': \"assistant\", 'content': reference.response}, # role assitant\n",
    "            {'role': 'user', 'content': message.text} # Our query\n",
    "        ]\n",
    "    )\n",
    "\n",
    "    reference.response = response['choices'][0]['message']['content']\n",
    "    print(f\">>> ChatGPT: \\n\\t{reference.response}\")\n",
    "    await bot.send_message(chat_id = message.chat.id, text = reference.response)\n"
   ]
  }
 ],
 "metadata": {
  "kernelspec": {
   "display_name": "Image_Captioning",
   "language": "python",
   "name": "python3"
  },
  "language_info": {
   "codemirror_mode": {
    "name": "ipython",
    "version": 3
   },
   "file_extension": ".py",
   "mimetype": "text/x-python",
   "name": "python",
   "nbconvert_exporter": "python",
   "pygments_lexer": "ipython3",
   "version": "3.11.4"
  }
 },
 "nbformat": 4,
 "nbformat_minor": 2
}
